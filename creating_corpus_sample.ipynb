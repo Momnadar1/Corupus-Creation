{
 "cells": [
  {
   "cell_type": "code",
   "execution_count": 3,
   "metadata": {},
   "outputs": [],
   "source": [
    "### this is code to generate corpus\n",
    "\n",
    "i=0\n",
    "f= open('ghalib.txt', 'r')\n",
    "for line in f:\n",
    "    line.strip()\n",
    "    if(line!='\\n'):\n",
    "#         print(line) \n",
    "        f2write = open('corpus\\\\D\\\\GhalibFolder\\\\train\\\\verse%s.txt' % i,'w')\n",
    "        i+=1\n",
    "        f2write.write(line)\n",
    "f.close()\n"
   ]
  },
  {
   "cell_type": "code",
   "execution_count": null,
   "metadata": {},
   "outputs": [],
   "source": []
  }
 ],
 "metadata": {
  "kernelspec": {
   "display_name": "Python 2",
   "language": "python",
   "name": "python2"
  },
  "language_info": {
   "codemirror_mode": {
    "name": "ipython",
    "version": 2
   },
   "file_extension": ".py",
   "mimetype": "text/x-python",
   "name": "python",
   "nbconvert_exporter": "python",
   "pygments_lexer": "ipython2",
   "version": "2.7.16"
  }
 },
 "nbformat": 4,
 "nbformat_minor": 2
}
